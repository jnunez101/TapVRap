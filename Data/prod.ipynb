{
 "cells": [
  {
   "cell_type": "code",
   "execution_count": 10,
   "metadata": {},
   "outputs": [],
   "source": [
    "import numpy as np\n",
    "from string import ascii_letters, punctuation, whitespace\n",
    "%matplotlib inline\n",
    "import re\n",
    "def cleanData(line):\n",
    "    \n",
    "    return line.astype(np.float)\n",
    "        #print(mylist[i][y])"
   ]
  },
  {
   "cell_type": "code",
   "execution_count": 11,
   "metadata": {},
   "outputs": [
    {
     "ename": "ModuleNotFoundError",
     "evalue": "No module named 'pylive'",
     "output_type": "error",
     "traceback": [
      "\u001b[0;31m---------------------------------------------------------------------------\u001b[0m",
      "\u001b[0;31mModuleNotFoundError\u001b[0m                       Traceback (most recent call last)",
      "\u001b[0;32m<ipython-input-11-556d114389f1>\u001b[0m in \u001b[0;36m<module>\u001b[0;34m\u001b[0m\n\u001b[1;32m      1\u001b[0m \u001b[0;32mimport\u001b[0m \u001b[0mtime\u001b[0m\u001b[0;34m\u001b[0m\u001b[0;34m\u001b[0m\u001b[0m\n\u001b[0;32m----> 2\u001b[0;31m \u001b[0;32mfrom\u001b[0m \u001b[0mpylive\u001b[0m \u001b[0;32mimport\u001b[0m \u001b[0mlive_plotter\u001b[0m\u001b[0;34m\u001b[0m\u001b[0;34m\u001b[0m\u001b[0m\n\u001b[0m\u001b[1;32m      3\u001b[0m \u001b[0;34m\u001b[0m\u001b[0m\n\u001b[1;32m      4\u001b[0m \u001b[0;32mdef\u001b[0m \u001b[0mfollow\u001b[0m\u001b[0;34m(\u001b[0m\u001b[0mthefile\u001b[0m\u001b[0;34m)\u001b[0m\u001b[0;34m:\u001b[0m\u001b[0;34m\u001b[0m\u001b[0;34m\u001b[0m\u001b[0m\n\u001b[1;32m      5\u001b[0m     \u001b[0mthefile\u001b[0m\u001b[0;34m.\u001b[0m\u001b[0mseek\u001b[0m\u001b[0;34m(\u001b[0m\u001b[0;36m0\u001b[0m\u001b[0;34m,\u001b[0m\u001b[0;36m2\u001b[0m\u001b[0;34m)\u001b[0m\u001b[0;34m\u001b[0m\u001b[0;34m\u001b[0m\u001b[0m\n",
      "\u001b[0;31mModuleNotFoundError\u001b[0m: No module named 'pylive'"
     ]
    }
   ],
   "source": [
    "import time\n",
    "import numpy as np\n",
    "import time\n",
    "import matplotlib\n",
    "from matplotlib import pyplot as plt\n",
    "from matplotlib.animation import FuncAnimation\n",
    "plt.style.use('fivethirtyeight')\n",
    "\n",
    "def updateData(x, y, counter,newData,axis):\n",
    "    y.append(newData[axis])\n",
    "    x.append(counter)\n",
    "    plt.cla()\n",
    "    return plt.plot(x,y)\n",
    "\n",
    "def follow(thefile):\n",
    "    thefile.seek(0,2)\n",
    "    while True:\n",
    "        line = thefile.readline()\n",
    "        if not line:\n",
    "            time.sleep(0.1)\n",
    "            continue\n",
    "        yield line\n",
    "\n",
    "if __name__ == '__main__':\n",
    "    logfile = open(\"RunningAButton\",\"r\")\n",
    "    loglines = follow(logfile)\n",
    "    #########\n",
    "    #X = 1\n",
    "    #Y = 2\n",
    "    #Z = 3\n",
    "    #########\n",
    "    axis = 1\n",
    "    finalData = np.zeros(100)\n",
    "    xVec = np.linspace(0,1000, 100)\n",
    "    yVec = np.zeros(100)\n",
    "    line1 = []\n",
    "    x = []\n",
    "    y = []\n",
    "    counter = 0\n",
    "    fig, ax = plt.subplots(1,1)\n",
    "    ax.set_aspect('equal')\n",
    "    ax.set_xlim(0,50000)\n",
    "    ax.set_ylim(0,50000)\n",
    "    #ax.hold(True)\n",
    "    plt.show(False)\n",
    "    plt.draw()\n",
    "    #copy background\n",
    "    points = ax.plot(x,y, 'o')[0]\n",
    "    background = fig.canvas.copy_from_bbox(ax.bbox)\n",
    "    \n",
    "    for line in loglines:\n",
    "        #print(line)\n",
    "        data = line.split(',')\n",
    "        data = np.array(data)\n",
    "        newData = cleanData(data)\n",
    "        x.append(counter)\n",
    "        y.append(newData[axis])\n",
    "        points.set_data(x,y)\n",
    "        #x.append(counter)\n",
    "        #y.append(newData[axis])\n",
    "         # restore background\n",
    "        fig.canvas.restore_region(background)\n",
    "        # redraw just the points\n",
    "        ax.draw_artist(points)\n",
    "        # fill in the axes rectangle\n",
    "        fig.canvas.blit(ax.bbox)\n",
    "        plt.plot(x,y)\n",
    "        #ani = FuncAnimation(plt.gcf(),updateData(x,y,counter,newData,axis), 10000)\n",
    "        #plt.tight_layout()\n",
    "        plt.show()\n",
    "        counter +=1\n",
    "        "
   ]
  },
  {
   "cell_type": "code",
   "execution_count": null,
   "metadata": {},
   "outputs": [],
   "source": []
  },
  {
   "cell_type": "code",
   "execution_count": null,
   "metadata": {},
   "outputs": [],
   "source": []
  }
 ],
 "metadata": {
  "kernelspec": {
   "display_name": "Python 3",
   "language": "python",
   "name": "python3"
  },
  "language_info": {
   "codemirror_mode": {
    "name": "ipython",
    "version": 3
   },
   "file_extension": ".py",
   "mimetype": "text/x-python",
   "name": "python",
   "nbconvert_exporter": "python",
   "pygments_lexer": "ipython3",
   "version": "3.8.1"
  }
 },
 "nbformat": 4,
 "nbformat_minor": 2
}
